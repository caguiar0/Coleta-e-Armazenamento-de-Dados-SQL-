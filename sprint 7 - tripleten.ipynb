{
 "cells": [
  {
   "cell_type": "markdown",
   "metadata": {},
   "source": [
    "\n",
    "\n",
    "Olá estudante!\n",
    "\n",
    "Me chamo Rafael Meirelles e irei revisar o seu projeto hoje e em eventuais futuras submissões até que ele cumpra todos os requisitos para o aceite.\n",
    "Conte comigo nessa jornada e não se preocupe se precisar ajustar alguns detalhes, é parte do processo e fundamental para que você exercite os conceitos que vem aprendendo e assim melhore a qualidade dos seus códigos e análises.\n",
    "\n",
    "**Peço que mantenha e não altereos comentários que eu fizer por aqui para que possamos nos localizar posteriormente, ok?**\n",
    "\n",
    "Mais uma coisa, vamos utilizar um código de cores para você entender os meus feedbacks no seu notebook. Funciona assim:\n",
    "\n",
    "\n",
    "<div class=\"alert alert-danger\">\n",
    "<strong>Vermelho</strong>\n",
    "\n",
    "Erro que precisa ser consertado, caso contrário, seu projeto não pode ser aceito\n",
    "\n",
    "</div>\n",
    "\n",
    "<div class=\"alert alert-warning\">\n",
    "<strong>Amarelo</strong>\n",
    "\n",
    "Alerta de um erro não crítco, mas que pode ser corrigido para melhoria geral no seu código/análise\n",
    "\n",
    "</div>\n",
    "\n",
    "<div class=\"alert alert-success\">\n",
    "<strong>Verde</strong>\n",
    "\n",
    "Elogios\n",
    "</div>\n",
    "\n",
    "<div class=\"alert alert-info\">\n",
    "<strong>Comentário do estudante</strong>\n",
    "\n",
    "Use uma caixa azul como essa para eventuais comentários que você gostaria de fazer para mim.\n",
    "</div>\n",
    "\n"
   ]
  },
  {
   "cell_type": "markdown",
   "metadata": {},
   "source": [
    "<div class=\"alert alert-danger\">\n",
    "<strong>Comentário do revisor v1</strong>\n",
    "\n",
    "Estamos no caminho certo com essa versão, mas retocar os pontos indicados abaixo nos fará chegar em um resultado ainda mais incrível.\n",
    "    \n",
    "Conte comigo para ajudá-lo (a) em qualquer questão que possa vir a ter! Lembre-se de usar as caixas azuis para se comunicar comigo.\n",
    "    \n",
    "Até breve.\n",
    "</div>\n"
   ]
  },
  {
   "cell_type": "markdown",
   "metadata": {},
   "source": [
    "<div class=\"alert alert-danger\">\n",
    "<strong>Comentário do revisor v2</strong>\n",
    "\n",
    "Avançamos bem nessa iteração! Muito bom!\n",
    "    \n",
    "Estamos quase lá! Foque por favor nos pontos indicados como v2 e chegaremos a aprovação.\n",
    "    \n",
    "Até breve!\n",
    "</div>"
   ]
  },
  {
   "cell_type": "code",
   "execution_count": 1,
   "metadata": {},
   "outputs": [],
   "source": [
    "#Importando as bibliotecas\n",
    "import pandas as pd\n",
    "import requests\n",
    "from matplotlib import pyplot as plt\n",
    "from scipy import stats as st"
   ]
  },
  {
   "cell_type": "code",
   "execution_count": 2,
   "metadata": {},
   "outputs": [],
   "source": [
    "#Lendo os arquivos\n",
    "results_01 = pd.read_csv('/datasets/project_sql_result_01.csv')\n",
    "results_04 = pd.read_csv('/datasets/project_sql_result_04.csv')"
   ]
  },
  {
   "cell_type": "code",
   "execution_count": 3,
   "metadata": {},
   "outputs": [
    {
     "data": {
      "text/html": [
       "<div>\n",
       "<style scoped>\n",
       "    .dataframe tbody tr th:only-of-type {\n",
       "        vertical-align: middle;\n",
       "    }\n",
       "\n",
       "    .dataframe tbody tr th {\n",
       "        vertical-align: top;\n",
       "    }\n",
       "\n",
       "    .dataframe thead th {\n",
       "        text-align: right;\n",
       "    }\n",
       "</style>\n",
       "<table border=\"1\" class=\"dataframe\">\n",
       "  <thead>\n",
       "    <tr style=\"text-align: right;\">\n",
       "      <th></th>\n",
       "      <th>company_name</th>\n",
       "      <th>trips_amount</th>\n",
       "    </tr>\n",
       "  </thead>\n",
       "  <tbody>\n",
       "    <tr>\n",
       "      <th>0</th>\n",
       "      <td>Flash Cab</td>\n",
       "      <td>19558</td>\n",
       "    </tr>\n",
       "    <tr>\n",
       "      <th>1</th>\n",
       "      <td>Taxi Affiliation Services</td>\n",
       "      <td>11422</td>\n",
       "    </tr>\n",
       "    <tr>\n",
       "      <th>2</th>\n",
       "      <td>Medallion Leasing</td>\n",
       "      <td>10367</td>\n",
       "    </tr>\n",
       "    <tr>\n",
       "      <th>3</th>\n",
       "      <td>Yellow Cab</td>\n",
       "      <td>9888</td>\n",
       "    </tr>\n",
       "    <tr>\n",
       "      <th>4</th>\n",
       "      <td>Taxi Affiliation Service Yellow</td>\n",
       "      <td>9299</td>\n",
       "    </tr>\n",
       "    <tr>\n",
       "      <th>...</th>\n",
       "      <td>...</td>\n",
       "      <td>...</td>\n",
       "    </tr>\n",
       "    <tr>\n",
       "      <th>59</th>\n",
       "      <td>4053 - 40193 Adwar H. Nikola</td>\n",
       "      <td>7</td>\n",
       "    </tr>\n",
       "    <tr>\n",
       "      <th>60</th>\n",
       "      <td>2733 - 74600 Benny Jona</td>\n",
       "      <td>7</td>\n",
       "    </tr>\n",
       "    <tr>\n",
       "      <th>61</th>\n",
       "      <td>5874 - 73628 Sergey Cab Corp.</td>\n",
       "      <td>5</td>\n",
       "    </tr>\n",
       "    <tr>\n",
       "      <th>62</th>\n",
       "      <td>2241 - 44667 - Felman Corp</td>\n",
       "      <td>3</td>\n",
       "    </tr>\n",
       "    <tr>\n",
       "      <th>63</th>\n",
       "      <td>3556 - 36214 RC Andrews Cab</td>\n",
       "      <td>2</td>\n",
       "    </tr>\n",
       "  </tbody>\n",
       "</table>\n",
       "<p>64 rows × 2 columns</p>\n",
       "</div>"
      ],
      "text/plain": [
       "                       company_name  trips_amount\n",
       "0                         Flash Cab         19558\n",
       "1         Taxi Affiliation Services         11422\n",
       "2                 Medallion Leasing         10367\n",
       "3                        Yellow Cab          9888\n",
       "4   Taxi Affiliation Service Yellow          9299\n",
       "..                              ...           ...\n",
       "59     4053 - 40193 Adwar H. Nikola             7\n",
       "60          2733 - 74600 Benny Jona             7\n",
       "61    5874 - 73628 Sergey Cab Corp.             5\n",
       "62       2241 - 44667 - Felman Corp             3\n",
       "63      3556 - 36214 RC Andrews Cab             2\n",
       "\n",
       "[64 rows x 2 columns]"
      ]
     },
     "execution_count": 3,
     "metadata": {},
     "output_type": "execute_result"
    }
   ],
   "source": [
    "#Verificando os dados dos arquivos\n",
    "results_01"
   ]
  },
  {
   "cell_type": "code",
   "execution_count": 4,
   "metadata": {},
   "outputs": [
    {
     "name": "stdout",
     "output_type": "stream",
     "text": [
      "<class 'pandas.core.frame.DataFrame'>\n",
      "RangeIndex: 64 entries, 0 to 63\n",
      "Data columns (total 2 columns):\n",
      " #   Column        Non-Null Count  Dtype \n",
      "---  ------        --------------  ----- \n",
      " 0   company_name  64 non-null     object\n",
      " 1   trips_amount  64 non-null     int64 \n",
      "dtypes: int64(1), object(1)\n",
      "memory usage: 1.1+ KB\n"
     ]
    }
   ],
   "source": [
    "results_01.info()"
   ]
  },
  {
   "cell_type": "code",
   "execution_count": 5,
   "metadata": {
    "scrolled": false
   },
   "outputs": [
    {
     "data": {
      "text/html": [
       "<div>\n",
       "<style scoped>\n",
       "    .dataframe tbody tr th:only-of-type {\n",
       "        vertical-align: middle;\n",
       "    }\n",
       "\n",
       "    .dataframe tbody tr th {\n",
       "        vertical-align: top;\n",
       "    }\n",
       "\n",
       "    .dataframe thead th {\n",
       "        text-align: right;\n",
       "    }\n",
       "</style>\n",
       "<table border=\"1\" class=\"dataframe\">\n",
       "  <thead>\n",
       "    <tr style=\"text-align: right;\">\n",
       "      <th></th>\n",
       "      <th>dropoff_location_name</th>\n",
       "      <th>average_trips</th>\n",
       "    </tr>\n",
       "  </thead>\n",
       "  <tbody>\n",
       "    <tr>\n",
       "      <th>0</th>\n",
       "      <td>Loop</td>\n",
       "      <td>10727.466667</td>\n",
       "    </tr>\n",
       "    <tr>\n",
       "      <th>1</th>\n",
       "      <td>River North</td>\n",
       "      <td>9523.666667</td>\n",
       "    </tr>\n",
       "    <tr>\n",
       "      <th>2</th>\n",
       "      <td>Streeterville</td>\n",
       "      <td>6664.666667</td>\n",
       "    </tr>\n",
       "    <tr>\n",
       "      <th>3</th>\n",
       "      <td>West Loop</td>\n",
       "      <td>5163.666667</td>\n",
       "    </tr>\n",
       "    <tr>\n",
       "      <th>4</th>\n",
       "      <td>O'Hare</td>\n",
       "      <td>2546.900000</td>\n",
       "    </tr>\n",
       "    <tr>\n",
       "      <th>...</th>\n",
       "      <td>...</td>\n",
       "      <td>...</td>\n",
       "    </tr>\n",
       "    <tr>\n",
       "      <th>89</th>\n",
       "      <td>Mount Greenwood</td>\n",
       "      <td>3.137931</td>\n",
       "    </tr>\n",
       "    <tr>\n",
       "      <th>90</th>\n",
       "      <td>Hegewisch</td>\n",
       "      <td>3.117647</td>\n",
       "    </tr>\n",
       "    <tr>\n",
       "      <th>91</th>\n",
       "      <td>Burnside</td>\n",
       "      <td>2.333333</td>\n",
       "    </tr>\n",
       "    <tr>\n",
       "      <th>92</th>\n",
       "      <td>East Side</td>\n",
       "      <td>1.961538</td>\n",
       "    </tr>\n",
       "    <tr>\n",
       "      <th>93</th>\n",
       "      <td>Riverdale</td>\n",
       "      <td>1.800000</td>\n",
       "    </tr>\n",
       "  </tbody>\n",
       "</table>\n",
       "<p>94 rows × 2 columns</p>\n",
       "</div>"
      ],
      "text/plain": [
       "   dropoff_location_name  average_trips\n",
       "0                   Loop   10727.466667\n",
       "1            River North    9523.666667\n",
       "2          Streeterville    6664.666667\n",
       "3              West Loop    5163.666667\n",
       "4                 O'Hare    2546.900000\n",
       "..                   ...            ...\n",
       "89       Mount Greenwood       3.137931\n",
       "90             Hegewisch       3.117647\n",
       "91              Burnside       2.333333\n",
       "92             East Side       1.961538\n",
       "93             Riverdale       1.800000\n",
       "\n",
       "[94 rows x 2 columns]"
      ]
     },
     "execution_count": 5,
     "metadata": {},
     "output_type": "execute_result"
    }
   ],
   "source": [
    "results_04"
   ]
  },
  {
   "cell_type": "code",
   "execution_count": 6,
   "metadata": {
    "scrolled": true
   },
   "outputs": [
    {
     "name": "stdout",
     "output_type": "stream",
     "text": [
      "<class 'pandas.core.frame.DataFrame'>\n",
      "RangeIndex: 94 entries, 0 to 93\n",
      "Data columns (total 2 columns):\n",
      " #   Column                 Non-Null Count  Dtype  \n",
      "---  ------                 --------------  -----  \n",
      " 0   dropoff_location_name  94 non-null     object \n",
      " 1   average_trips          94 non-null     float64\n",
      "dtypes: float64(1), object(1)\n",
      "memory usage: 1.6+ KB\n"
     ]
    }
   ],
   "source": [
    "results_04.info()"
   ]
  },
  {
   "cell_type": "markdown",
   "metadata": {},
   "source": [
    "<div class=\"alert alert-success\">\n",
    "<strong>Comentário do revisor v1</strong>\n",
    "\n",
    "Excelente trabalho checando a consistência dos dados.\n",
    "\n",
    "Sempre importante para garantir uma análise robusta!\n",
    "</div>\n"
   ]
  },
  {
   "cell_type": "code",
   "execution_count": 7,
   "metadata": {
    "scrolled": false
   },
   "outputs": [
    {
     "data": {
      "text/html": [
       "<div>\n",
       "<style scoped>\n",
       "    .dataframe tbody tr th:only-of-type {\n",
       "        vertical-align: middle;\n",
       "    }\n",
       "\n",
       "    .dataframe tbody tr th {\n",
       "        vertical-align: top;\n",
       "    }\n",
       "\n",
       "    .dataframe thead th {\n",
       "        text-align: right;\n",
       "    }\n",
       "</style>\n",
       "<table border=\"1\" class=\"dataframe\">\n",
       "  <thead>\n",
       "    <tr style=\"text-align: right;\">\n",
       "      <th></th>\n",
       "      <th>dropoff_location_name</th>\n",
       "      <th>average_trips</th>\n",
       "    </tr>\n",
       "  </thead>\n",
       "  <tbody>\n",
       "    <tr>\n",
       "      <th>0</th>\n",
       "      <td>Loop</td>\n",
       "      <td>10727.466667</td>\n",
       "    </tr>\n",
       "    <tr>\n",
       "      <th>1</th>\n",
       "      <td>River North</td>\n",
       "      <td>9523.666667</td>\n",
       "    </tr>\n",
       "    <tr>\n",
       "      <th>2</th>\n",
       "      <td>Streeterville</td>\n",
       "      <td>6664.666667</td>\n",
       "    </tr>\n",
       "    <tr>\n",
       "      <th>3</th>\n",
       "      <td>West Loop</td>\n",
       "      <td>5163.666667</td>\n",
       "    </tr>\n",
       "    <tr>\n",
       "      <th>4</th>\n",
       "      <td>O'Hare</td>\n",
       "      <td>2546.900000</td>\n",
       "    </tr>\n",
       "    <tr>\n",
       "      <th>5</th>\n",
       "      <td>Lake View</td>\n",
       "      <td>2420.966667</td>\n",
       "    </tr>\n",
       "    <tr>\n",
       "      <th>6</th>\n",
       "      <td>Grant Park</td>\n",
       "      <td>2068.533333</td>\n",
       "    </tr>\n",
       "    <tr>\n",
       "      <th>7</th>\n",
       "      <td>Museum Campus</td>\n",
       "      <td>1510.000000</td>\n",
       "    </tr>\n",
       "    <tr>\n",
       "      <th>8</th>\n",
       "      <td>Gold Coast</td>\n",
       "      <td>1364.233333</td>\n",
       "    </tr>\n",
       "    <tr>\n",
       "      <th>9</th>\n",
       "      <td>Sheffield &amp; DePaul</td>\n",
       "      <td>1259.766667</td>\n",
       "    </tr>\n",
       "  </tbody>\n",
       "</table>\n",
       "</div>"
      ],
      "text/plain": [
       "  dropoff_location_name  average_trips\n",
       "0                  Loop   10727.466667\n",
       "1           River North    9523.666667\n",
       "2         Streeterville    6664.666667\n",
       "3             West Loop    5163.666667\n",
       "4                O'Hare    2546.900000\n",
       "5             Lake View    2420.966667\n",
       "6            Grant Park    2068.533333\n",
       "7         Museum Campus    1510.000000\n",
       "8            Gold Coast    1364.233333\n",
       "9    Sheffield & DePaul    1259.766667"
      ]
     },
     "execution_count": 7,
     "metadata": {},
     "output_type": "execute_result"
    }
   ],
   "source": [
    "results_04.head(10)"
   ]
  },
  {
   "cell_type": "code",
   "execution_count": 8,
   "metadata": {},
   "outputs": [
    {
     "data": {
      "text/html": [
       "<div>\n",
       "<style scoped>\n",
       "    .dataframe tbody tr th:only-of-type {\n",
       "        vertical-align: middle;\n",
       "    }\n",
       "\n",
       "    .dataframe tbody tr th {\n",
       "        vertical-align: top;\n",
       "    }\n",
       "\n",
       "    .dataframe thead th {\n",
       "        text-align: right;\n",
       "    }\n",
       "</style>\n",
       "<table border=\"1\" class=\"dataframe\">\n",
       "  <thead>\n",
       "    <tr style=\"text-align: right;\">\n",
       "      <th></th>\n",
       "      <th>company_name</th>\n",
       "      <th>trips_amount</th>\n",
       "    </tr>\n",
       "  </thead>\n",
       "  <tbody>\n",
       "    <tr>\n",
       "      <th>0</th>\n",
       "      <td>Flash Cab</td>\n",
       "      <td>19558</td>\n",
       "    </tr>\n",
       "    <tr>\n",
       "      <th>1</th>\n",
       "      <td>Taxi Affiliation Services</td>\n",
       "      <td>11422</td>\n",
       "    </tr>\n",
       "    <tr>\n",
       "      <th>2</th>\n",
       "      <td>Medallion Leasing</td>\n",
       "      <td>10367</td>\n",
       "    </tr>\n",
       "    <tr>\n",
       "      <th>3</th>\n",
       "      <td>Yellow Cab</td>\n",
       "      <td>9888</td>\n",
       "    </tr>\n",
       "    <tr>\n",
       "      <th>4</th>\n",
       "      <td>Taxi Affiliation Service Yellow</td>\n",
       "      <td>9299</td>\n",
       "    </tr>\n",
       "    <tr>\n",
       "      <th>5</th>\n",
       "      <td>Chicago Carriage Cab Corp</td>\n",
       "      <td>9181</td>\n",
       "    </tr>\n",
       "    <tr>\n",
       "      <th>6</th>\n",
       "      <td>City Service</td>\n",
       "      <td>8448</td>\n",
       "    </tr>\n",
       "    <tr>\n",
       "      <th>7</th>\n",
       "      <td>Sun Taxi</td>\n",
       "      <td>7701</td>\n",
       "    </tr>\n",
       "    <tr>\n",
       "      <th>8</th>\n",
       "      <td>Star North Management LLC</td>\n",
       "      <td>7455</td>\n",
       "    </tr>\n",
       "    <tr>\n",
       "      <th>9</th>\n",
       "      <td>Blue Ribbon Taxi Association Inc.</td>\n",
       "      <td>5953</td>\n",
       "    </tr>\n",
       "    <tr>\n",
       "      <th>10</th>\n",
       "      <td>Choice Taxi Association</td>\n",
       "      <td>5015</td>\n",
       "    </tr>\n",
       "    <tr>\n",
       "      <th>11</th>\n",
       "      <td>Globe Taxi</td>\n",
       "      <td>4383</td>\n",
       "    </tr>\n",
       "    <tr>\n",
       "      <th>12</th>\n",
       "      <td>Dispatch Taxi Affiliation</td>\n",
       "      <td>3355</td>\n",
       "    </tr>\n",
       "    <tr>\n",
       "      <th>13</th>\n",
       "      <td>Nova Taxi Affiliation Llc</td>\n",
       "      <td>3175</td>\n",
       "    </tr>\n",
       "    <tr>\n",
       "      <th>14</th>\n",
       "      <td>Patriot Taxi Dba Peace Taxi Association</td>\n",
       "      <td>2235</td>\n",
       "    </tr>\n",
       "  </tbody>\n",
       "</table>\n",
       "</div>"
      ],
      "text/plain": [
       "                               company_name  trips_amount\n",
       "0                                 Flash Cab         19558\n",
       "1                 Taxi Affiliation Services         11422\n",
       "2                         Medallion Leasing         10367\n",
       "3                                Yellow Cab          9888\n",
       "4           Taxi Affiliation Service Yellow          9299\n",
       "5                 Chicago Carriage Cab Corp          9181\n",
       "6                              City Service          8448\n",
       "7                                  Sun Taxi          7701\n",
       "8                 Star North Management LLC          7455\n",
       "9         Blue Ribbon Taxi Association Inc.          5953\n",
       "10                  Choice Taxi Association          5015\n",
       "11                               Globe Taxi          4383\n",
       "12                Dispatch Taxi Affiliation          3355\n",
       "13                Nova Taxi Affiliation Llc          3175\n",
       "14  Patriot Taxi Dba Peace Taxi Association          2235"
      ]
     },
     "execution_count": 8,
     "metadata": {},
     "output_type": "execute_result"
    }
   ],
   "source": [
    "#Criando o grafico referente ao numero de corridas por empresa de taxi\n",
    "results_01_sort = results_01.sort_values(by='trips_amount', ascending=False).head(15)\n",
    "results_01_sort"
   ]
  },
  {
   "cell_type": "code",
   "execution_count": 9,
   "metadata": {},
   "outputs": [
    {
     "data": {
      "image/png": "[encoded data removed]",
      "text/plain": [
       "<Figure size 1500x1000 with 1 Axes>"
      ]
     },
     "metadata": {},
     "output_type": "display_data"
    }
   ],
   "source": [
    "group_trips = results_01_sort.groupby('company_name')['trips_amount'].sum()\n",
    "group_trips.plot(xlabel='Company',\n",
    "                 ylabel='Number of trips',\n",
    "                 x='company_name',\n",
    "                 y='trips_amount',\n",
    "                 kind = 'bar',\n",
    "                 figsize=(15, 10),\n",
    "                 title='Número de corridas por empresas de taxi')\n",
    "\n",
    "plt.show()"
   ]
  },
  {
   "cell_type": "markdown",
   "metadata": {},
   "source": [
    "<div class=\"alert alert-warning\">\n",
    "<strong>Comentário do revisor v1</strong>\n",
    "\n",
    "O gráfico das empresas está ok, mas poderíamso eliminar empresas menos relevantes para facilitar a leitura\n",
    "</div>\n"
   ]
  },
  {
   "cell_type": "markdown",
   "metadata": {},
   "source": [
    "<div class=\"alert alert-success\">\n",
    "<strong>Comentário do revisor v2</strong>\n",
    "\n",
    "Valeu pelo ajuste!\n",
    "</div>\n",
    "\n"
   ]
  },
  {
   "cell_type": "code",
   "execution_count": 10,
   "metadata": {},
   "outputs": [],
   "source": [
    "#Criando um grfico para a media de viagens por lugar de destino\n",
    "results_04_sort = results_04.sort_values(by='average_trips', ascending=False).head(10)"
   ]
  },
  {
   "cell_type": "code",
   "execution_count": 11,
   "metadata": {},
   "outputs": [
    {
     "data": {
      "image/png": "[encoded data removed]",
      "text/plain": [
       "<Figure size 1700x1500 with 1 Axes>"
      ]
     },
     "metadata": {},
     "output_type": "display_data"
    }
   ],
   "source": [
    "group_neighbor = results_04_sort.groupby('dropoff_location_name')['average_trips'].sum()\n",
    "group_neighbor.plot(xlabel='Location',\n",
    "                 ylabel='Average trips',\n",
    "                 x='dropoff_location_name',\n",
    "                 y='average_trips',\n",
    "                 kind = 'bar',\n",
    "                 figsize=(17, 15),\n",
    "                 title='Número medio de viagens para cada lugar')\n",
    "\n",
    "plt.show()"
   ]
  },
  {
   "cell_type": "markdown",
   "metadata": {},
   "source": [
    "<div class=\"alert alert-danger\">\n",
    "<strong>Comentário do revisor v1</strong>\n",
    "\n",
    "O gráfico dos bairros deveria conter apenas os 10 principais bairros.\n",
    "</div>\n"
   ]
  },
  {
   "cell_type": "markdown",
   "metadata": {},
   "source": [
    "<div class=\"alert alert-success\">\n",
    "<strong>Comentário do revisor v2</strong>\n",
    "\n",
    "Valeu pelo ajuste!\n",
    "</div>\n",
    "\n"
   ]
  },
  {
   "cell_type": "code",
   "execution_count": 12,
   "metadata": {},
   "outputs": [
    {
     "data": {
      "text/html": [
       "<div>\n",
       "<style scoped>\n",
       "    .dataframe tbody tr th:only-of-type {\n",
       "        vertical-align: middle;\n",
       "    }\n",
       "\n",
       "    .dataframe tbody tr th {\n",
       "        vertical-align: top;\n",
       "    }\n",
       "\n",
       "    .dataframe thead th {\n",
       "        text-align: right;\n",
       "    }\n",
       "</style>\n",
       "<table border=\"1\" class=\"dataframe\">\n",
       "  <thead>\n",
       "    <tr style=\"text-align: right;\">\n",
       "      <th></th>\n",
       "      <th>start_ts</th>\n",
       "      <th>weather_conditions</th>\n",
       "      <th>duration_seconds</th>\n",
       "    </tr>\n",
       "  </thead>\n",
       "  <tbody>\n",
       "    <tr>\n",
       "      <th>0</th>\n",
       "      <td>2017-11-25 16:00:00</td>\n",
       "      <td>Good</td>\n",
       "      <td>2410.0</td>\n",
       "    </tr>\n",
       "    <tr>\n",
       "      <th>1</th>\n",
       "      <td>2017-11-25 14:00:00</td>\n",
       "      <td>Good</td>\n",
       "      <td>1920.0</td>\n",
       "    </tr>\n",
       "    <tr>\n",
       "      <th>2</th>\n",
       "      <td>2017-11-25 12:00:00</td>\n",
       "      <td>Good</td>\n",
       "      <td>1543.0</td>\n",
       "    </tr>\n",
       "    <tr>\n",
       "      <th>3</th>\n",
       "      <td>2017-11-04 10:00:00</td>\n",
       "      <td>Good</td>\n",
       "      <td>2512.0</td>\n",
       "    </tr>\n",
       "    <tr>\n",
       "      <th>4</th>\n",
       "      <td>2017-11-11 07:00:00</td>\n",
       "      <td>Good</td>\n",
       "      <td>1440.0</td>\n",
       "    </tr>\n",
       "    <tr>\n",
       "      <th>...</th>\n",
       "      <td>...</td>\n",
       "      <td>...</td>\n",
       "      <td>...</td>\n",
       "    </tr>\n",
       "    <tr>\n",
       "      <th>1063</th>\n",
       "      <td>2017-11-25 11:00:00</td>\n",
       "      <td>Good</td>\n",
       "      <td>0.0</td>\n",
       "    </tr>\n",
       "    <tr>\n",
       "      <th>1064</th>\n",
       "      <td>2017-11-11 10:00:00</td>\n",
       "      <td>Good</td>\n",
       "      <td>1318.0</td>\n",
       "    </tr>\n",
       "    <tr>\n",
       "      <th>1065</th>\n",
       "      <td>2017-11-11 13:00:00</td>\n",
       "      <td>Good</td>\n",
       "      <td>2100.0</td>\n",
       "    </tr>\n",
       "    <tr>\n",
       "      <th>1066</th>\n",
       "      <td>2017-11-11 08:00:00</td>\n",
       "      <td>Good</td>\n",
       "      <td>1380.0</td>\n",
       "    </tr>\n",
       "    <tr>\n",
       "      <th>1067</th>\n",
       "      <td>2017-11-04 16:00:00</td>\n",
       "      <td>Bad</td>\n",
       "      <td>2834.0</td>\n",
       "    </tr>\n",
       "  </tbody>\n",
       "</table>\n",
       "<p>1068 rows × 3 columns</p>\n",
       "</div>"
      ],
      "text/plain": [
       "                 start_ts weather_conditions  duration_seconds\n",
       "0     2017-11-25 16:00:00               Good            2410.0\n",
       "1     2017-11-25 14:00:00               Good            1920.0\n",
       "2     2017-11-25 12:00:00               Good            1543.0\n",
       "3     2017-11-04 10:00:00               Good            2512.0\n",
       "4     2017-11-11 07:00:00               Good            1440.0\n",
       "...                   ...                ...               ...\n",
       "1063  2017-11-25 11:00:00               Good               0.0\n",
       "1064  2017-11-11 10:00:00               Good            1318.0\n",
       "1065  2017-11-11 13:00:00               Good            2100.0\n",
       "1066  2017-11-11 08:00:00               Good            1380.0\n",
       "1067  2017-11-04 16:00:00                Bad            2834.0\n",
       "\n",
       "[1068 rows x 3 columns]"
      ]
     },
     "execution_count": 12,
     "metadata": {},
     "output_type": "execute_result"
    }
   ],
   "source": [
    "#Lendo o arquivo\n",
    "data = pd.read_csv('/datasets/project_sql_result_07.csv')\n",
    "data"
   ]
  },
  {
   "cell_type": "code",
   "execution_count": 15,
   "metadata": {
    "scrolled": false
   },
   "outputs": [
    {
     "name": "stdout",
     "output_type": "stream",
     "text": [
      "valor-p: 6.517970327099473e-12\n",
      "Há evidências estatisticamente significativas para rejeitar a hipótese nula.\n",
      "Portanto, a hipótese de que a doração média das viagens do Loop para o Aeroporto Internacional O'Hare muda nos sábados chuvosos pode ser aceita.\n"
     ]
    }
   ],
   "source": [
    "#Testando as hipoteses\n",
    "alpha = 0.05\n",
    "\n",
    "data['start_ts'] = pd.to_datetime(data['day_of_week'])\n",
    "data['day_of_week'] = data['start_ts'].dt.dayofweek\n",
    "saturday_data = data[data['day_of_week'] == 5]\n",
    "saturday_rainy_data = saturday_data[saturday_data['weather_conditions'] == 'Good']\n",
    "saturday_not_rainy_data = saturday_data[saturday_data['weather_conditions'] == 'Bad']\n",
    "results = st.ttest_ind(saturday_rainy_data['duration_seconds'], saturday_not_rainy_data['duration_seconds'])\n",
    "\n",
    "print('valor-p:', results.pvalue)\n",
    "\n",
    "if results.pvalue < alpha:\n",
    "    print('Há evidências estatisticamente significativas para rejeitar a hipótese nula.')\n",
    "    print('Portanto, a hipótese de que a doração média das viagens do Loop para o Aeroporto Internacional O\\'Hare muda nos sábados chuvosos pode ser aceita.')\n",
    "\n",
    "else:\n",
    "    print('Não há evidências estatisticamente significantes para rejeitar a hipótese nula.')\n",
    "    print('Portanto, a hipótese de que a duração média dos viagens do Loop para o Aeroporto Internacional O\\'Hare muda nos sábados chuvosos não pode ser aceita.')"
   ]
  },
  {
   "cell_type": "markdown",
   "metadata": {},
   "source": [
    "<div class=\"alert alert-danger\">\n",
    "<strong>Comentário do revisor v1</strong>\n",
    "\n",
    "O código acima resultou em um erro.\n",
    "</div>\n"
   ]
  },
  {
   "cell_type": "markdown",
   "metadata": {},
   "source": [
    "<div class=\"alert alert-danger\">\n",
    "<strong>Comentário do revisor v2</strong>\n",
    "\n",
    "Há um erro nessa interpretação. Quando o p-valor é inferior ao alpha estabelecido devemos rejeitar H0 em favor de H1. Pode revisar por favor?\n",
    "</div>\n",
    "\n"
   ]
  }
 ],
 "metadata": {
  "ExecuteTimeLog": [
   {
    "duration": 782,
    "start_time": "2024-05-17T18:30:06.672Z"
   },
   {
    "duration": 73,
    "start_time": "2024-05-17T18:30:12.955Z"
   },
   {
    "duration": 203,
    "start_time": "2024-05-17T18:30:46.704Z"
   },
   {
    "duration": 817,
    "start_time": "2024-05-17T18:56:36.700Z"
   },
   {
    "duration": 11,
    "start_time": "2024-05-17T18:56:56.958Z"
   },
   {
    "duration": 16,
    "start_time": "2024-05-17T18:57:39.600Z"
   },
   {
    "duration": 11,
    "start_time": "2024-05-17T19:08:00.526Z"
   },
   {
    "duration": 10,
    "start_time": "2024-05-17T19:08:43.453Z"
   },
   {
    "duration": 7,
    "start_time": "2024-05-17T19:09:26.924Z"
   },
   {
    "duration": 23,
    "start_time": "2024-05-17T19:10:26.748Z"
   },
   {
    "duration": 15,
    "start_time": "2024-05-17T19:10:43.680Z"
   },
   {
    "duration": 12,
    "start_time": "2024-05-17T19:11:20.193Z"
   },
   {
    "duration": 31,
    "start_time": "2024-05-17T19:19:10.367Z"
   },
   {
    "duration": 18,
    "start_time": "2024-05-17T19:19:18.508Z"
   },
   {
    "duration": 15,
    "start_time": "2024-05-17T19:20:33.653Z"
   },
   {
    "duration": 18,
    "start_time": "2024-05-17T19:21:19.310Z"
   },
   {
    "duration": 18,
    "start_time": "2024-05-17T19:21:23.886Z"
   },
   {
    "duration": 14,
    "start_time": "2024-05-17T19:21:35.946Z"
   },
   {
    "duration": 15,
    "start_time": "2024-05-17T19:21:45.550Z"
   },
   {
    "duration": 8,
    "start_time": "2024-05-17T20:46:40.101Z"
   },
   {
    "duration": 17,
    "start_time": "2024-05-17T20:53:25.274Z"
   },
   {
    "duration": 24,
    "start_time": "2024-05-17T20:53:44.477Z"
   },
   {
    "duration": 1046,
    "start_time": "2024-05-17T21:10:01.083Z"
   },
   {
    "duration": 124,
    "start_time": "2024-05-17T21:12:38.694Z"
   },
   {
    "duration": 5000,
    "start_time": "2024-05-17T21:22:22.178Z"
   },
   {
    "duration": 4,
    "start_time": "2024-05-17T21:26:32.953Z"
   },
   {
    "duration": 15,
    "start_time": "2024-05-17T21:26:35.304Z"
   },
   {
    "duration": 14,
    "start_time": "2024-05-17T21:26:35.817Z"
   },
   {
    "duration": 16,
    "start_time": "2024-05-17T21:26:35.967Z"
   },
   {
    "duration": 14,
    "start_time": "2024-05-17T21:26:36.149Z"
   },
   {
    "duration": 13,
    "start_time": "2024-05-17T21:26:36.304Z"
   },
   {
    "duration": 10,
    "start_time": "2024-05-17T21:26:36.458Z"
   },
   {
    "duration": 219,
    "start_time": "2024-05-17T21:26:36.609Z"
   },
   {
    "duration": 941,
    "start_time": "2024-05-17T21:27:07.912Z"
   },
   {
    "duration": 241,
    "start_time": "2024-05-17T21:27:52.687Z"
   },
   {
    "duration": 955,
    "start_time": "2024-05-17T21:28:01.407Z"
   },
   {
    "duration": 137,
    "start_time": "2024-05-17T21:28:17.492Z"
   },
   {
    "duration": 7,
    "start_time": "2024-05-17T21:47:28.292Z"
   },
   {
    "duration": 8,
    "start_time": "2024-05-17T21:49:27.469Z"
   },
   {
    "duration": 9,
    "start_time": "2024-05-17T21:50:38.384Z"
   },
   {
    "duration": 7,
    "start_time": "2024-05-17T21:50:48.100Z"
   },
   {
    "duration": 9,
    "start_time": "2024-05-17T21:52:59.474Z"
   },
   {
    "duration": 1828,
    "start_time": "2024-05-17T21:58:06.063Z"
   },
   {
    "duration": 1807,
    "start_time": "2024-05-17T21:59:31.964Z"
   },
   {
    "duration": 2306,
    "start_time": "2024-05-17T22:05:23.220Z"
   },
   {
    "duration": 2398,
    "start_time": "2024-05-17T22:05:38.380Z"
   },
   {
    "duration": 1974,
    "start_time": "2024-05-17T22:07:08.189Z"
   },
   {
    "duration": 1820,
    "start_time": "2024-05-17T22:07:47.892Z"
   },
   {
    "duration": 5627,
    "start_time": "2024-05-18T17:36:05.647Z"
   },
   {
    "duration": 27,
    "start_time": "2024-05-18T17:36:11.278Z"
   },
   {
    "duration": 21,
    "start_time": "2024-05-18T17:36:11.309Z"
   },
   {
    "duration": 18,
    "start_time": "2024-05-18T17:36:11.335Z"
   },
   {
    "duration": 18,
    "start_time": "2024-05-18T17:36:11.357Z"
   },
   {
    "duration": 16,
    "start_time": "2024-05-18T17:36:11.409Z"
   },
   {
    "duration": 14,
    "start_time": "2024-05-18T17:36:11.429Z"
   },
   {
    "duration": 2633,
    "start_time": "2024-05-18T17:36:11.446Z"
   },
   {
    "duration": 2317,
    "start_time": "2024-05-18T17:37:02.603Z"
   },
   {
    "duration": 2139,
    "start_time": "2024-05-18T17:37:20.769Z"
   },
   {
    "duration": 1821,
    "start_time": "2024-05-18T17:42:47.530Z"
   },
   {
    "duration": 2144,
    "start_time": "2024-05-18T17:51:16.437Z"
   },
   {
    "duration": 13,
    "start_time": "2024-05-18T18:11:11.465Z"
   },
   {
    "duration": 522,
    "start_time": "2024-05-18T18:11:12.684Z"
   },
   {
    "duration": 441,
    "start_time": "2024-05-18T18:56:06.428Z"
   },
   {
    "duration": 14,
    "start_time": "2024-05-18T18:56:06.872Z"
   },
   {
    "duration": 14,
    "start_time": "2024-05-18T18:56:07.118Z"
   },
   {
    "duration": 13,
    "start_time": "2024-05-18T18:56:07.277Z"
   },
   {
    "duration": 17,
    "start_time": "2024-05-18T18:56:07.451Z"
   },
   {
    "duration": 16,
    "start_time": "2024-05-18T18:56:07.624Z"
   },
   {
    "duration": 12,
    "start_time": "2024-05-18T18:56:07.786Z"
   },
   {
    "duration": 1917,
    "start_time": "2024-05-18T18:56:07.953Z"
   },
   {
    "duration": 2200,
    "start_time": "2024-05-18T18:56:09.873Z"
   },
   {
    "duration": 9,
    "start_time": "2024-05-18T18:56:12.076Z"
   },
   {
    "duration": 94,
    "start_time": "2024-05-18T18:56:12.089Z"
   },
   {
    "duration": 4830,
    "start_time": "2024-05-19T15:11:30.983Z"
   },
   {
    "duration": 23,
    "start_time": "2024-05-19T15:11:35.817Z"
   },
   {
    "duration": 17,
    "start_time": "2024-05-19T15:11:35.842Z"
   },
   {
    "duration": 14,
    "start_time": "2024-05-19T15:11:35.864Z"
   },
   {
    "duration": 41,
    "start_time": "2024-05-19T15:11:35.881Z"
   },
   {
    "duration": 13,
    "start_time": "2024-05-19T15:11:35.925Z"
   },
   {
    "duration": 11,
    "start_time": "2024-05-19T15:11:35.941Z"
   },
   {
    "duration": 1931,
    "start_time": "2024-05-19T15:11:35.954Z"
   },
   {
    "duration": 2039,
    "start_time": "2024-05-19T15:11:37.888Z"
   },
   {
    "duration": 15,
    "start_time": "2024-05-19T15:11:39.931Z"
   },
   {
    "duration": 449,
    "start_time": "2024-05-19T15:11:39.948Z"
   },
   {
    "duration": 26,
    "start_time": "2024-05-19T15:33:40.639Z"
   },
   {
    "duration": 31,
    "start_time": "2024-05-19T15:34:13.402Z"
   },
   {
    "duration": 608,
    "start_time": "2024-05-19T15:45:41.862Z"
   },
   {
    "duration": 865,
    "start_time": "2024-05-19T15:52:15.894Z"
   },
   {
    "duration": 88,
    "start_time": "2024-05-19T16:11:53.033Z"
   },
   {
    "duration": 9,
    "start_time": "2024-05-19T16:13:38.666Z"
   },
   {
    "duration": 58,
    "start_time": "2024-05-19T16:13:40.443Z"
   },
   {
    "duration": 26,
    "start_time": "2024-05-19T16:13:57.927Z"
   },
   {
    "duration": 62,
    "start_time": "2024-05-19T16:14:23.950Z"
   },
   {
    "duration": 2289,
    "start_time": "2024-05-19T16:15:12.177Z"
   },
   {
    "duration": 2143,
    "start_time": "2024-05-19T16:15:25.920Z"
   },
   {
    "duration": 2106,
    "start_time": "2024-05-19T16:15:41.268Z"
   },
   {
    "duration": 2152,
    "start_time": "2024-05-19T16:15:50.145Z"
   },
   {
    "duration": 2249,
    "start_time": "2024-05-19T16:15:59.655Z"
   },
   {
    "duration": 2277,
    "start_time": "2024-05-19T16:16:40.856Z"
   },
   {
    "duration": 2154,
    "start_time": "2024-05-19T16:16:57.753Z"
   },
   {
    "duration": 2095,
    "start_time": "2024-05-19T16:17:14.843Z"
   },
   {
    "duration": 5001,
    "start_time": "2024-05-20T14:51:37.421Z"
   },
   {
    "duration": 16,
    "start_time": "2024-05-20T14:51:42.428Z"
   },
   {
    "duration": 17,
    "start_time": "2024-05-20T14:51:42.446Z"
   },
   {
    "duration": 41,
    "start_time": "2024-05-20T14:51:42.468Z"
   },
   {
    "duration": 16,
    "start_time": "2024-05-20T14:51:42.512Z"
   },
   {
    "duration": 15,
    "start_time": "2024-05-20T14:51:42.530Z"
   },
   {
    "duration": 11,
    "start_time": "2024-05-20T14:51:42.548Z"
   },
   {
    "duration": 2009,
    "start_time": "2024-05-20T14:51:42.562Z"
   },
   {
    "duration": 2205,
    "start_time": "2024-05-20T14:51:44.575Z"
   },
   {
    "duration": 27,
    "start_time": "2024-05-20T14:51:46.785Z"
   },
   {
    "duration": 1026,
    "start_time": "2024-05-20T14:51:46.814Z"
   },
   {
    "duration": 442,
    "start_time": "2024-05-20T21:15:15.864Z"
   },
   {
    "duration": 6509,
    "start_time": "2024-05-20T21:15:23.430Z"
   },
   {
    "duration": 28,
    "start_time": "2024-05-20T21:15:29.948Z"
   },
   {
    "duration": 40,
    "start_time": "2024-05-20T21:15:29.980Z"
   },
   {
    "duration": 26,
    "start_time": "2024-05-20T21:15:30.026Z"
   },
   {
    "duration": 63,
    "start_time": "2024-05-20T21:15:30.056Z"
   },
   {
    "duration": 27,
    "start_time": "2024-05-20T21:15:30.125Z"
   },
   {
    "duration": 51,
    "start_time": "2024-05-20T21:15:30.159Z"
   },
   {
    "duration": 509,
    "start_time": "2024-05-20T21:15:30.216Z"
   },
   {
    "duration": 702,
    "start_time": "2024-05-20T21:15:41.921Z"
   },
   {
    "duration": 2614,
    "start_time": "2024-05-20T21:16:04.346Z"
   },
   {
    "duration": 206,
    "start_time": "2024-05-20T21:38:35.960Z"
   },
   {
    "duration": 34,
    "start_time": "2024-05-20T21:42:41.701Z"
   },
   {
    "duration": 29,
    "start_time": "2024-05-20T21:43:10.980Z"
   },
   {
    "duration": 5,
    "start_time": "2024-05-20T21:54:26.698Z"
   },
   {
    "duration": 1834,
    "start_time": "2024-05-20T21:54:40.773Z"
   },
   {
    "duration": 479,
    "start_time": "2024-05-20T21:55:16.670Z"
   },
   {
    "duration": 1862,
    "start_time": "2024-05-20T21:58:14.915Z"
   },
   {
    "duration": 5,
    "start_time": "2024-05-20T21:58:31.224Z"
   },
   {
    "duration": 1839,
    "start_time": "2024-05-20T21:58:31.624Z"
   },
   {
    "duration": 175,
    "start_time": "2024-05-20T22:00:13.079Z"
   },
   {
    "duration": 1966,
    "start_time": "2024-05-20T22:00:38.206Z"
   },
   {
    "duration": 5,
    "start_time": "2024-05-20T22:03:26.614Z"
   },
   {
    "duration": 32,
    "start_time": "2024-05-20T22:03:43.467Z"
   },
   {
    "duration": 2154,
    "start_time": "2024-05-20T22:03:50.959Z"
   },
   {
    "duration": 30,
    "start_time": "2024-05-20T22:04:42.398Z"
   },
   {
    "duration": 27,
    "start_time": "2024-05-20T22:05:01.922Z"
   },
   {
    "duration": 20,
    "start_time": "2024-05-20T22:05:26.345Z"
   },
   {
    "duration": 2187,
    "start_time": "2024-05-20T22:05:46.371Z"
   },
   {
    "duration": 39,
    "start_time": "2024-05-20T22:09:03.590Z"
   },
   {
    "duration": 14,
    "start_time": "2024-05-20T22:09:22.734Z"
   },
   {
    "duration": 33,
    "start_time": "2024-05-20T22:09:23.307Z"
   },
   {
    "duration": 49,
    "start_time": "2024-05-20T22:09:49.234Z"
   },
   {
    "duration": 38,
    "start_time": "2024-05-20T22:10:19.637Z"
   },
   {
    "duration": 17,
    "start_time": "2024-05-20T22:16:05.586Z"
   },
   {
    "duration": 336,
    "start_time": "2024-05-21T02:41:19.238Z"
   },
   {
    "duration": 21,
    "start_time": "2024-05-21T02:44:40.881Z"
   },
   {
    "duration": 5236,
    "start_time": "2024-05-21T02:44:48.482Z"
   },
   {
    "duration": 22,
    "start_time": "2024-05-21T02:44:53.727Z"
   },
   {
    "duration": 18,
    "start_time": "2024-05-21T02:44:53.752Z"
   },
   {
    "duration": 14,
    "start_time": "2024-05-21T02:44:53.775Z"
   },
   {
    "duration": 40,
    "start_time": "2024-05-21T02:44:53.792Z"
   },
   {
    "duration": 15,
    "start_time": "2024-05-21T02:44:53.835Z"
   },
   {
    "duration": 11,
    "start_time": "2024-05-21T02:44:53.853Z"
   },
   {
    "duration": 6,
    "start_time": "2024-05-21T02:44:53.867Z"
   },
   {
    "duration": 1991,
    "start_time": "2024-05-21T02:44:53.876Z"
   },
   {
    "duration": 5,
    "start_time": "2024-05-21T02:44:55.873Z"
   },
   {
    "duration": 2234,
    "start_time": "2024-05-21T02:44:55.882Z"
   },
   {
    "duration": 19,
    "start_time": "2024-05-21T02:44:58.127Z"
   },
   {
    "duration": 9,
    "start_time": "2024-05-21T02:44:58.149Z"
   },
   {
    "duration": 108,
    "start_time": "2024-05-21T02:44:58.162Z"
   },
   {
    "duration": 133,
    "start_time": "2024-05-21T02:45:51.216Z"
   },
   {
    "duration": 288,
    "start_time": "2024-05-21T02:45:58.516Z"
   },
   {
    "duration": 1966,
    "start_time": "2024-05-21T02:46:19.046Z"
   },
   {
    "duration": 15,
    "start_time": "2024-05-21T02:49:45.804Z"
   },
   {
    "duration": 17,
    "start_time": "2024-05-21T02:50:01.868Z"
   },
   {
    "duration": 4842,
    "start_time": "2024-05-21T17:40:44.611Z"
   },
   {
    "duration": 18,
    "start_time": "2024-05-21T17:40:50.661Z"
   },
   {
    "duration": 15,
    "start_time": "2024-05-21T17:40:50.744Z"
   },
   {
    "duration": 19,
    "start_time": "2024-05-21T17:40:50.905Z"
   },
   {
    "duration": 13,
    "start_time": "2024-05-21T17:40:51.065Z"
   },
   {
    "duration": 13,
    "start_time": "2024-05-21T17:40:51.195Z"
   },
   {
    "duration": 10,
    "start_time": "2024-05-21T17:40:51.449Z"
   },
   {
    "duration": 5,
    "start_time": "2024-05-21T17:40:51.572Z"
   },
   {
    "duration": 1946,
    "start_time": "2024-05-21T17:40:51.703Z"
   },
   {
    "duration": 5,
    "start_time": "2024-05-21T17:40:53.653Z"
   },
   {
    "duration": 2168,
    "start_time": "2024-05-21T17:40:53.661Z"
   },
   {
    "duration": 11,
    "start_time": "2024-05-21T17:40:55.834Z"
   },
   {
    "duration": 8,
    "start_time": "2024-05-21T17:40:55.847Z"
   },
   {
    "duration": 14,
    "start_time": "2024-05-21T17:40:55.859Z"
   },
   {
    "duration": 1258,
    "start_time": "2024-05-21T18:02:41.405Z"
   },
   {
    "duration": 116,
    "start_time": "2024-05-21T18:07:25.023Z"
   },
   {
    "duration": 294,
    "start_time": "2024-05-21T18:12:26.246Z"
   },
   {
    "duration": 13,
    "start_time": "2024-05-21T18:13:49.882Z"
   },
   {
    "duration": 13,
    "start_time": "2024-05-21T18:35:55.545Z"
   },
   {
    "duration": 8,
    "start_time": "2024-05-21T18:37:01.936Z"
   },
   {
    "duration": 8,
    "start_time": "2024-05-21T18:38:38.617Z"
   },
   {
    "duration": 8,
    "start_time": "2024-05-21T19:04:49.359Z"
   },
   {
    "duration": 10,
    "start_time": "2024-05-21T19:07:51.182Z"
   },
   {
    "duration": 16,
    "start_time": "2024-05-21T19:07:51.449Z"
   },
   {
    "duration": 9,
    "start_time": "2024-05-21T19:08:35.546Z"
   },
   {
    "duration": 15,
    "start_time": "2024-05-21T19:08:35.825Z"
   },
   {
    "duration": 10,
    "start_time": "2024-05-21T19:09:40.158Z"
   },
   {
    "duration": 8,
    "start_time": "2024-05-21T21:06:35.806Z"
   },
   {
    "duration": 4958,
    "start_time": "2024-05-22T02:59:40.949Z"
   },
   {
    "duration": 16,
    "start_time": "2024-05-22T02:59:47.204Z"
   },
   {
    "duration": 18,
    "start_time": "2024-05-22T02:59:47.541Z"
   },
   {
    "duration": 14,
    "start_time": "2024-05-22T02:59:47.683Z"
   },
   {
    "duration": 15,
    "start_time": "2024-05-22T02:59:47.874Z"
   },
   {
    "duration": 13,
    "start_time": "2024-05-22T02:59:48.045Z"
   },
   {
    "duration": 10,
    "start_time": "2024-05-22T02:59:48.292Z"
   },
   {
    "duration": 4,
    "start_time": "2024-05-22T02:59:49.399Z"
   },
   {
    "duration": 1900,
    "start_time": "2024-05-22T02:59:49.573Z"
   },
   {
    "duration": 5,
    "start_time": "2024-05-22T02:59:51.476Z"
   },
   {
    "duration": 2215,
    "start_time": "2024-05-22T02:59:51.484Z"
   },
   {
    "duration": 11,
    "start_time": "2024-05-22T02:59:53.715Z"
   },
   {
    "duration": 14,
    "start_time": "2024-05-22T02:59:53.729Z"
   },
   {
    "duration": 7,
    "start_time": "2024-05-22T02:59:53.746Z"
   },
   {
    "duration": 13,
    "start_time": "2024-05-22T02:59:53.756Z"
   },
   {
    "duration": 8,
    "start_time": "2024-05-22T02:59:53.772Z"
   },
   {
    "duration": 1055,
    "start_time": "2024-05-22T03:00:10.038Z"
   },
   {
    "duration": 57,
    "start_time": "2024-05-22T03:00:49.635Z"
   },
   {
    "duration": 5086,
    "start_time": "2024-05-22T14:35:09.127Z"
   },
   {
    "duration": 21,
    "start_time": "2024-05-22T14:35:16.481Z"
   },
   {
    "duration": 16,
    "start_time": "2024-05-22T14:35:16.716Z"
   },
   {
    "duration": 13,
    "start_time": "2024-05-22T14:35:17.088Z"
   },
   {
    "duration": 14,
    "start_time": "2024-05-22T14:35:17.377Z"
   },
   {
    "duration": 14,
    "start_time": "2024-05-22T14:35:17.616Z"
   },
   {
    "duration": 10,
    "start_time": "2024-05-22T14:35:17.944Z"
   },
   {
    "duration": 4,
    "start_time": "2024-05-22T14:35:18.094Z"
   },
   {
    "duration": 1908,
    "start_time": "2024-05-22T14:35:18.287Z"
   },
   {
    "duration": 5,
    "start_time": "2024-05-22T14:35:20.198Z"
   },
   {
    "duration": 2188,
    "start_time": "2024-05-22T14:35:20.206Z"
   },
   {
    "duration": 15,
    "start_time": "2024-05-22T14:35:22.398Z"
   },
   {
    "duration": 27,
    "start_time": "2024-05-22T14:35:22.415Z"
   },
   {
    "duration": 8,
    "start_time": "2024-05-22T14:35:22.445Z"
   },
   {
    "duration": 1095,
    "start_time": "2024-05-22T14:35:22.456Z"
   },
   {
    "duration": 0,
    "start_time": "2024-05-22T14:35:23.553Z"
   },
   {
    "duration": 852,
    "start_time": "2024-05-22T14:35:32.951Z"
   },
   {
    "duration": 59,
    "start_time": "2024-05-22T14:36:14.140Z"
   },
   {
    "duration": 77,
    "start_time": "2024-05-22T14:36:19.531Z"
   },
   {
    "duration": 311,
    "start_time": "2024-05-22T19:50:30.157Z"
   },
   {
    "duration": 4952,
    "start_time": "2024-05-22T19:50:39.945Z"
   },
   {
    "duration": 19,
    "start_time": "2024-05-22T19:50:44.902Z"
   },
   {
    "duration": 22,
    "start_time": "2024-05-22T19:50:44.923Z"
   },
   {
    "duration": 15,
    "start_time": "2024-05-22T19:50:44.950Z"
   },
   {
    "duration": 14,
    "start_time": "2024-05-22T19:50:44.968Z"
   },
   {
    "duration": 54,
    "start_time": "2024-05-22T19:50:44.985Z"
   },
   {
    "duration": 11,
    "start_time": "2024-05-22T19:50:45.042Z"
   },
   {
    "duration": 4,
    "start_time": "2024-05-22T19:50:45.057Z"
   },
   {
    "duration": 1936,
    "start_time": "2024-05-22T19:50:45.065Z"
   },
   {
    "duration": 5,
    "start_time": "2024-05-22T19:50:47.006Z"
   },
   {
    "duration": 2228,
    "start_time": "2024-05-22T19:50:47.015Z"
   },
   {
    "duration": 12,
    "start_time": "2024-05-22T19:50:49.246Z"
   },
   {
    "duration": 15,
    "start_time": "2024-05-22T19:50:49.261Z"
   },
   {
    "duration": 10,
    "start_time": "2024-05-22T19:50:49.279Z"
   },
   {
    "duration": 1023,
    "start_time": "2024-05-22T19:50:49.291Z"
   },
   {
    "duration": 540,
    "start_time": "2024-05-22T19:51:20.397Z"
   },
   {
    "duration": 652,
    "start_time": "2024-05-22T19:52:22.996Z"
   },
   {
    "duration": 26,
    "start_time": "2024-05-22T19:59:21.527Z"
   },
   {
    "duration": 10,
    "start_time": "2024-05-22T20:07:45.679Z"
   },
   {
    "duration": 15,
    "start_time": "2024-05-22T20:11:13.940Z"
   },
   {
    "duration": 15,
    "start_time": "2024-05-22T20:12:18.258Z"
   },
   {
    "duration": 1841,
    "start_time": "2024-05-22T20:12:27.608Z"
   },
   {
    "duration": 11,
    "start_time": "2024-05-22T20:12:59.930Z"
   },
   {
    "duration": 435,
    "start_time": "2024-05-22T20:13:02.042Z"
   },
   {
    "duration": 12,
    "start_time": "2024-05-22T20:13:34.592Z"
   },
   {
    "duration": 478,
    "start_time": "2024-05-22T20:13:34.844Z"
   },
   {
    "duration": 6,
    "start_time": "2024-05-22T20:13:37.485Z"
   },
   {
    "duration": 442,
    "start_time": "2024-05-22T20:13:38.570Z"
   },
   {
    "duration": 19,
    "start_time": "2024-05-22T20:14:47.737Z"
   },
   {
    "duration": 87,
    "start_time": "2024-05-22T20:14:56.233Z"
   },
   {
    "duration": 20,
    "start_time": "2024-05-22T20:15:09.092Z"
   },
   {
    "duration": 83,
    "start_time": "2024-05-22T20:15:09.499Z"
   },
   {
    "duration": 4,
    "start_time": "2024-05-22T20:17:08.589Z"
   },
   {
    "duration": 14,
    "start_time": "2024-05-22T20:17:09.360Z"
   },
   {
    "duration": 14,
    "start_time": "2024-05-22T20:17:09.529Z"
   },
   {
    "duration": 13,
    "start_time": "2024-05-22T20:17:09.685Z"
   },
   {
    "duration": 13,
    "start_time": "2024-05-22T20:17:09.875Z"
   },
   {
    "duration": 13,
    "start_time": "2024-05-22T20:17:10.029Z"
   },
   {
    "duration": 10,
    "start_time": "2024-05-22T20:17:10.324Z"
   },
   {
    "duration": 14,
    "start_time": "2024-05-22T20:17:10.488Z"
   },
   {
    "duration": 461,
    "start_time": "2024-05-22T20:17:10.553Z"
   },
   {
    "duration": 17,
    "start_time": "2024-05-22T20:17:11.017Z"
   },
   {
    "duration": 479,
    "start_time": "2024-05-22T20:17:11.038Z"
   },
   {
    "duration": 19,
    "start_time": "2024-05-22T20:17:11.644Z"
   },
   {
    "duration": 85,
    "start_time": "2024-05-22T20:17:11.797Z"
   },
   {
    "duration": 85,
    "start_time": "2024-05-22T20:20:02.550Z"
   },
   {
    "duration": 64,
    "start_time": "2024-05-22T20:22:06.519Z"
   },
   {
    "duration": 16,
    "start_time": "2024-05-22T20:22:26.666Z"
   },
   {
    "duration": 5156,
    "start_time": "2024-05-23T13:13:19.970Z"
   },
   {
    "duration": 18,
    "start_time": "2024-05-23T13:13:25.131Z"
   },
   {
    "duration": 19,
    "start_time": "2024-05-23T13:13:25.152Z"
   },
   {
    "duration": 16,
    "start_time": "2024-05-23T13:13:25.177Z"
   },
   {
    "duration": 39,
    "start_time": "2024-05-23T13:13:25.196Z"
   },
   {
    "duration": 15,
    "start_time": "2024-05-23T13:13:25.238Z"
   },
   {
    "duration": 11,
    "start_time": "2024-05-23T13:13:25.256Z"
   },
   {
    "duration": 13,
    "start_time": "2024-05-23T13:13:25.270Z"
   },
   {
    "duration": 625,
    "start_time": "2024-05-23T13:13:25.333Z"
   },
   {
    "duration": 4,
    "start_time": "2024-05-23T13:13:25.964Z"
   },
   {
    "duration": 594,
    "start_time": "2024-05-23T13:13:25.973Z"
   },
   {
    "duration": 22,
    "start_time": "2024-05-23T13:13:26.571Z"
   },
   {
    "duration": 1417,
    "start_time": "2024-05-23T13:13:26.597Z"
   },
   {
    "duration": 614,
    "start_time": "2024-05-23T13:14:00.028Z"
   },
   {
    "duration": 18,
    "start_time": "2024-05-23T13:14:19.209Z"
   }
  ],
  "kernelspec": {
   "display_name": "Python 3 (ipykernel)",
   "language": "python",
   "name": "python3"
  },
  "language_info": {
   "codemirror_mode": {
    "name": "ipython",
    "version": 3
   },
   "file_extension": ".py",
   "mimetype": "text/x-python",
   "name": "python",
   "nbconvert_exporter": "python",
   "pygments_lexer": "ipython3",
   "version": "3.9.19"
  },
  "toc": {
   "base_numbering": 1,
   "nav_menu": {},
   "number_sections": true,
   "sideBar": true,
   "skip_h1_title": true,
   "title_cell": "Table of Contents",
   "title_sidebar": "Contents",
   "toc_cell": false,
   "toc_position": {},
   "toc_section_display": true,
   "toc_window_display": false
  }
 },
 "nbformat": 4,
 "nbformat_minor": 2
}
